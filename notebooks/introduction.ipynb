{
  "cells": [
    {
      "cell_type": "markdown",
      "source": [
        "#Introduction:\n",
        "\n"
      ],
      "metadata": {
        "id": "-1ciEeyNevrd"
      }
    },
    {
      "cell_type": "markdown",
      "source": [
        "**Durée: 3h**\n",
        "\n",
        "**Consignes générales:**\n",
        "\n",
        "- La première chose à réaliser consiste à \"forker\" ce dépôt sur votre propre compte github. Ensuite, envoyez un mail à **tpdeeplearning@gmail.com** avec votre nom et le nom de votre compte github, de manière à ce que je puisse suivre/récupérer votre travail.\n",
        "\n",
        "- Une fois ces opérations réalisées, vous pourrez ouvrir les autres calepins (notebooks) et les remplir progressivement, en n'oubliant pas de **sauvegarder fréquemment vore tavail** (ctrl + s). \\\n",
        "\n",
        "- Tout document est autorisé. Vous pouvez utiliser votre poste personnel et n'importe quelle IA génératrice de texte ou de code pour vous aider (c'est même recommandé). La seule chose interdite, c'est de partager des bouts de codes ou des éléments de réponse.\n",
        "\n",
        "- A la fin des trois heures, sauvegardez votre travail, enregistrez localement vos calepins et **envoyez-les moi dans un second mail**.\n",
        "\n",
        "**Conseils:**\n",
        "- Il y a une contrepartie à la possibilité de consulter tous vos documents : les questions sont souvent ouvertes et complexes. Dans tous les cas, restez précis et évitez les digressions.\n",
        "\n",
        "- Les calepins peuvent être abordés dans n'importe quel ordre. De plus, les exercices du calepin *exercices.ipynb* sont indépendants.\n",
        "\n",
        "- Le BE est long : il vaudra mieux bien faire que chercher à tout faire, mais consacrez tout de même une dizaine de minutes au traitement des questions \"faciles\" qui resteraient à la fin de l'épreuve.\n",
        "\n",
        "- Si une erreur de code vous prend beaucoup de temps, signalez-là et passez à autre chose.\n",
        "\n",
        "- Enfin, contrôlez le type d'exécution de vos calepins de manière à épargner au maximum vos GPUs.\n",
        "\n",
        "\n",
        "\n",
        "\n",
        "\n"
      ],
      "metadata": {
        "id": "OT0xziCP4aFE"
      }
    },
    {
      "cell_type": "markdown",
      "source": [
        "Bon courage !"
      ],
      "metadata": {
        "id": "cd3BzCGp_gik"
      }
    }
  ],
  "metadata": {
    "colab": {
      "provenance": []
    },
    "gpuClass": "standard",
    "kernelspec": {
      "display_name": "Python 3",
      "name": "python3"
    }
  },
  "nbformat": 4,
  "nbformat_minor": 0
}