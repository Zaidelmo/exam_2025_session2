{
  "cells": [
    {
      "cell_type": "markdown",
      "metadata": {
        "id": "_CACBFsndOCo"
      },
      "source": [
        "# Exercices"
      ]
    },
    {
      "cell_type": "markdown",
      "source": [
        "## **Préliminaires**: Clone de votre repo et imports"
      ],
      "metadata": {
        "id": "hfkMtaHleKAa"
      }
    },
    {
      "cell_type": "code",
      "source": [
        "! git clone https://github.com/XXXXXXX/exam_2025_session2.git\n",
        "! cp exam_2025_session2/utils/utils_exercices.py .\n",
        "\n",
        "import copy\n",
        "import numpy as np\n",
        "import torch"
      ],
      "metadata": {
        "id": "xiD_cI-geJjI",
        "colab": {
          "base_uri": "https://localhost:8080/"
        },
        "outputId": "e5678ea5-b056-4d32-8da0-16abef898526"
      },
      "execution_count": null,
      "outputs": [
        {
          "output_type": "stream",
          "name": "stdout",
          "text": [
            "Cloning into 'exam_2025_session2'...\n",
            "fatal: could not read Username for 'https://github.com': No such device or address\n",
            "cp: cannot stat 'exam_2025_session2/utils/utils_exercices.py': No such file or directory\n"
          ]
        }
      ]
    },
    {
      "cell_type": "markdown",
      "source": [
        "\\\n",
        "\n",
        "---\n",
        "\n",
        "\\"
      ],
      "metadata": {
        "id": "TRWBLVpCWC06"
      }
    },
    {
      "cell_type": "markdown",
      "source": [
        "\\\n",
        "\n",
        "**Exercice 1** *Une segmentation dans un contexte faiblement supervisé*\n",
        "\n",
        "La fonction *gen_dr* fournit permet de synthétiser des disques mêlés à des rectangles. Ici, les disques sont considérés comme du bruit, et le processus de corruption non en une somme (image = image_disques + image_rectangles) mais en une substitution (voir ci-dessous).\n",
        "Elle fournit aussi une cible idéale, qui, en pratique, n'est pas dipsonible.\n"
      ],
      "metadata": {
        "id": "C_Op6m7bEm-c"
      }
    },
    {
      "cell_type": "code",
      "source": [
        "def gen_dr(n):\n",
        "  discs = make_batch(n, rec = 0., noisy_rec= 0., disc = 0.001)\n",
        "  rectangles = make_batch(n, rec = 0.003, noisy_rec= 0., disc = 0.)\n",
        "  ideal_targets = rectangles > 0\n",
        "  rectangles[discs > 0 ] = discs[discs > 0]\n",
        "  return  rectangles, ideal_targets\n",
        "\n",
        "\n",
        "def gen_d(n):\n",
        "  discs = make_batch(n, rec = 0., noisy_rec= 0., disc = 0.001)\n",
        "  return  discs\n"
      ],
      "metadata": {
        "id": "A7K47MNIHtAa"
      },
      "execution_count": null,
      "outputs": []
    },
    {
      "cell_type": "markdown",
      "source": [
        "On dispose aussi d'une fonction *gen_d* qui synthétise des images comportant des disques :"
      ],
      "metadata": {
        "id": "8a4QTfbzGx9S"
      }
    },
    {
      "cell_type": "markdown",
      "source": [
        "**Q1** Rappeler ce qu'est la supervision faible. En quoi ce problème peut-il entrer dans cette catégorie ?"
      ],
      "metadata": {
        "id": "F3ZwckMqGBjq"
      }
    },
    {
      "cell_type": "markdown",
      "source": [
        "**Q2** Utiliser un UNet pour dire, pour une image produite par gen_dr, où sont les pixels qui étaient affectés par des rectangles **avant** corruption. Entraînez-le sur une cinquantaine d'époques. Utilisez la cible idéale pour contrôler la convergence. Visualiser quelques sorties après entraînement."
      ],
      "metadata": {
        "id": "2g3XFOz_GILS"
      }
    },
    {
      "cell_type": "markdown",
      "metadata": {
        "id": "t5RcggmAkJLV"
      },
      "source": [
        "\\\n",
        "\n",
        "**Exercice 3** *Une régression quantile*\n",
        "\n",
        "La fonction *gen* fournit permet de synthétiser des entrées / cibles à la volée :  \n",
        "\n",
        "\n"
      ]
    },
    {
      "cell_type": "code",
      "source": [
        "! git clone https://github.com/nanopiero/ML_S5_etudiants\n",
        "import sys\n",
        "sys.path.append('ML_S5_etudiants/practicals/P5')\n",
        "from utils_P5 import gen_proba, voir_batch2D, UNet\n",
        "from utils_P5 import make_batch\n",
        "def gen_ex3(n):\n",
        "  target1 = make_batch(n, rec = 0., noisy_rec= 0., disc = 0.0015)\n",
        "  target2 = make_batch(n, rec = 0.0015, noisy_rec= 0.0015, disc = 0.)\n",
        "  m = torch.normal(target1.mean(), 1)\n",
        "  input = target1 + target2\n",
        "  target = m\n",
        "  return  input, target\n",
        "\n",
        "\n",
        "# sampling (x,y) :\n",
        "\n",
        "input, target = gen_ex3(6, mySeed)\n",
        "# Inputs\n",
        "fig0 = plt.figure(0, figsize=(36, 6))\n",
        "voir_batch2D(input, 6, fig0, k=0, min_scale=0,max_scale=1)\n",
        "\n",
        "# Targets\n",
        "print(targets)"
      ],
      "metadata": {
        "id": "kUMjPeyG7yBX"
      },
      "execution_count": null,
      "outputs": []
    },
    {
      "cell_type": "markdown",
      "source": [
        "**Q1** Définir un Loader à partir du Dataset précédent (2 workers)"
      ],
      "metadata": {
        "id": "q5XZTrXNk12K"
      }
    },
    {
      "cell_type": "markdown",
      "source": [],
      "metadata": {
        "id": "MXGXg8tlPULY"
      }
    },
    {
      "cell_type": "markdown",
      "source": [
        "**Q2** Entraîner un ResNet18 à prédire la médiane conditionnelle à l'image d'entrée."
      ],
      "metadata": {
        "id": "CH_Z5ZEIlQPE"
      }
    },
    {
      "cell_type": "markdown",
      "source": [
        "**Q3** Modifier votre ResNet18 de manière à prédire aussi les premier et troisième quartiles. L'écart interquartile dépend-il de l'image d'entrée ?"
      ],
      "metadata": {
        "id": "g6BSTBitpGBD"
      }
    },
    {
      "cell_type": "markdown",
      "source": [
        "**Q4 (Bonus)** On fait l'hypothèse que la sortie ne dépend que des disques. On suppose aussi qu'on ait accès, comme à l'exercice 1 à un jeu de données d'images ne comportant que des disques. Que feriez-vous pour tester cette hypothèse ? Rpondez sans code, mais avec précision."
      ],
      "metadata": {
        "id": "OZwKogEEp2Fr"
      }
    },
    {
      "cell_type": "markdown",
      "source": [
        "\\\n",
        "\n",
        "---\n",
        "\n",
        "\\"
      ],
      "metadata": {
        "id": "VvV2jIrBNtzf"
      }
    },
    {
      "cell_type": "markdown",
      "source": [
        "**Exercice 3** *Nettoyage et adaptation de domaine*"
      ],
      "metadata": {
        "id": "CpRvXCaAtsIN"
      }
    },
    {
      "cell_type": "markdown",
      "source": [
        "Contrairement à l'exercice 1, on se place dans le cas où des entrées et des cibles idéales sont disponibles pour une tâche de débruitage :"
      ],
      "metadata": {
        "id": "mVMRirAta1e9"
      }
    },
    {
      "cell_type": "code",
      "source": [
        "def gen_dr_train(n):\n",
        "  discs = make_batch(n, rec = 0., noisy_rec= 0., disc = 0.0005)\n",
        "  rectangles = make_batch(n, rec = 0.001, noisy_rec= 0.001, disc = 0.)\n",
        "  ideal_targets = rectangles > 0\n",
        "  rectangles[discs > 0 ] = discs[discs > 0]\n",
        "  return  rectangles, targets\n",
        "\n"
      ],
      "metadata": {
        "id": "yBOL4N4Waz9_"
      },
      "execution_count": null,
      "outputs": []
    },
    {
      "cell_type": "markdown",
      "source": [
        "Par contre, on suppose que les images disponibles à l'entraînement ne suivent pas les mêmes statistiques que les données test, échantillonnables avec la fonction gen_dr_test suivante :"
      ],
      "metadata": {
        "id": "chqojsP0cj5V"
      }
    },
    {
      "cell_type": "code",
      "source": [
        "def gen_dr_test(n):\n",
        "  discs = make_batch(n, rec = 0., noisy_rec= 0., disc = 0.001)\n",
        "  rectangles = make_batch(n, rec = 0.002, noisy_rec= 0.002, disc = 0.)\n",
        "  ideal_targets = rectangles > 0\n",
        "  rectangles[discs > 0 ] = discs[discs > 0]\n",
        "  return  rectangles, targets"
      ],
      "metadata": {
        "id": "ojo1kCOpfWlV"
      },
      "execution_count": null,
      "outputs": []
    },
    {
      "cell_type": "markdown",
      "source": [
        "Ce qu'on voit en effet, c'est que les images test sont plus chargées en figures géométriques. \\\n",
        "Dans la réalité, ce cas de figure se présente lorsque :\n",
        " - les données propres au test (ie, représentatives des données à traiter en inférence) sont en trop petit nombre pour être exploitées à l'entraînement\n",
        " - un large jeu de données dont les statistiques sont différentes de celles des données d'inférence est disponible."
      ],
      "metadata": {
        "id": "Gxhm7Sg-dA1s"
      }
    },
    {
      "cell_type": "markdown",
      "source": [
        "**Q1** A l'aide d'internet, décrire ce que recouvre le mot clef \"domain adaptation\" et faites le lien avec l'énoncé."
      ],
      "metadata": {
        "id": "QZmPxdsZfT1d"
      }
    },
    {
      "cell_type": "markdown",
      "source": [
        "**Q2** Sur des entraînements courts avec des UNet, montrer que les performances sur le jeu de test sont plus faibles lorsque les données sont entraînées avec gen_dr_train que dans une situation idéale."
      ],
      "metadata": {
        "id": "2qajcIBrf6xc"
      }
    },
    {
      "cell_type": "markdown",
      "source": [
        "**Q3 (Bonus) ** Proposez une méthode simple pour améliorer les performances."
      ],
      "metadata": {
        "id": "PY7YFbL7gNxb"
      }
    },
    {
      "cell_type": "markdown",
      "source": [
        "\\\n",
        "\n",
        "---\n",
        "\n",
        "\\"
      ],
      "metadata": {
        "id": "qV52tusgNn6A"
      }
    },
    {
      "cell_type": "markdown",
      "source": [
        "**Exercice 4** Un article important"
      ],
      "metadata": {
        "id": "Gp9IVzoVL2Nz"
      }
    },
    {
      "cell_type": "markdown",
      "source": [
        "Parcourir rapidement l'article : https://arxiv.org/abs/1505.04597.\n",
        "Préciser :\n",
        "- la nature du problème de Machine Learning abordé.\n",
        "- quelles méthodes d'augmentation de données sont utilisées.\n",
        "- l'origine du déséquilibre entre les classes cibles et la façon dont elle il est traité (de manière synthétique)."
      ],
      "metadata": {
        "id": "0dQ9vX4uiKr7"
      }
    }
  ],
  "metadata": {
    "colab": {
      "provenance": []
    },
    "kernelspec": {
      "display_name": "Python 3",
      "name": "python3"
    }
  },
  "nbformat": 4,
  "nbformat_minor": 0
}